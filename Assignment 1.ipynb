{
  "metadata": {
    "language_info": {
      "codemirror_mode": {
        "name": "python",
        "version": 3
      },
      "file_extension": ".py",
      "mimetype": "text/x-python",
      "name": "python",
      "nbconvert_exporter": "python",
      "pygments_lexer": "ipython3",
      "version": "3.8"
    },
    "kernelspec": {
      "name": "python",
      "display_name": "Pyolite",
      "language": "python"
    }
  },
  "nbformat_minor": 4,
  "nbformat": 4,
  "cells": [
    {
      "cell_type": "markdown",
      "source": "# \"My Jupyter Notebook on IBM Watson Studio\"",
      "metadata": {
        "tags": []
      }
    },
    {
      "cell_type": "markdown",
      "source": "**Nick Starkey**",
      "metadata": {}
    },
    {
      "cell_type": "markdown",
      "source": "Data Consultant",
      "metadata": {}
    },
    {
      "cell_type": "markdown",
      "source": "*I love working with numbers and solving problems*",
      "metadata": {}
    },
    {
      "cell_type": "markdown",
      "source": "### A simple mathematical function, namely multiplication of 2 by 7",
      "metadata": {}
    },
    {
      "cell_type": "code",
      "source": "2*7",
      "metadata": {
        "trusted": true
      },
      "execution_count": 12,
      "outputs": [
        {
          "execution_count": 12,
          "output_type": "execute_result",
          "data": {
            "text/plain": "14"
          },
          "metadata": {}
        }
      ]
    },
    {
      "cell_type": "markdown",
      "source": "This is a list of great philosophers\n1. Greek\n    1. Plato\n    1. Aristotle\n1. Australian\n    1. <strike>Peter Singer<strike>\n1. Wikipedia page link to the GOAT philosopher\n    1. __[Immanuel Kant](https://en.wikipedia.org/wiki/Immanuel_Kant)__",
      "metadata": {}
    },
    {
      "cell_type": "code",
      "source": "",
      "metadata": {},
      "execution_count": null,
      "outputs": []
    }
  ]
}